{
 "cells": [
  {
   "cell_type": "code",
   "execution_count": 3,
   "id": "ed27d7d5",
   "metadata": {},
   "outputs": [
    {
     "name": "stdout",
     "output_type": "stream",
     "text": [
      "hello, user, please enter your text here -> HELLO user\n",
      "KHOOR xvhu\n"
     ]
    }
   ],
   "source": [
    "import string\n",
    "\n",
    "user_text = input('hello, user, please enter your text here -> ')\n",
    "\n",
    "alphabet_lowercase = string.ascii_lowercase\n",
    "alphabet_uppercase = string.ascii_uppercase\n",
    "\n",
    "#'c' sets the value that we want to shift the new alphabet by \n",
    "c = 3\n",
    "\n",
    "#shift lowercase and uppercase characters by 3\n",
    "shift_lower = alphabet_lowercase[c:] + alphabet_lowercase[:c]\n",
    "shift_upper = alphabet_uppercase[c:] + alphabet_uppercase[:c]\n",
    "\n",
    "#set encryption up to empty array that we can append\n",
    "#the value of letter to \n",
    "encryption = []\n",
    "\n",
    "for e in user_text:\n",
    "    if e.islower():\n",
    "        letter = shift_lower[alphabet_lowercase.find(e)]\n",
    "        encryption.append(letter)\n",
    "    elif e.isupper():\n",
    "        letter = shift_upper[alphabet_uppercase.find(e)]\n",
    "        encryption.append(letter)\n",
    "    else:\n",
    "        encryption.append(e)\n",
    "\n",
    "print(''.join(encryption))"
   ]
  },
  {
   "cell_type": "code",
   "execution_count": null,
   "id": "4664d5d0",
   "metadata": {},
   "outputs": [],
   "source": []
  },
  {
   "cell_type": "code",
   "execution_count": null,
   "id": "afae5dfb",
   "metadata": {},
   "outputs": [],
   "source": []
  },
  {
   "cell_type": "code",
   "execution_count": null,
   "id": "4d39d7d1",
   "metadata": {},
   "outputs": [],
   "source": []
  }
 ],
 "metadata": {
  "kernelspec": {
   "display_name": "Python 3 (ipykernel)",
   "language": "python",
   "name": "python3"
  },
  "language_info": {
   "codemirror_mode": {
    "name": "ipython",
    "version": 3
   },
   "file_extension": ".py",
   "mimetype": "text/x-python",
   "name": "python",
   "nbconvert_exporter": "python",
   "pygments_lexer": "ipython3",
   "version": "3.8.9"
  }
 },
 "nbformat": 4,
 "nbformat_minor": 5
}
